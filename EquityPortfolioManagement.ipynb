{
 "cells": [
  {
   "cell_type": "markdown",
   "id": "715070a6-6cce-45f6-9f90-f59a99265ae7",
   "metadata": {},
   "source": [
    " #  DS 636 Midterm project: Equity Portfolio Management\n",
    " ##  Project Members\n",
    " ####                           Mallika Kasi     \t    mk2434\n",
    " ####                           Lizbeth Fernandez     \tlf243\n",
    " ####                           Sai Vishal Chinta     \t31523943\n",
    " ####                           Ramya Balasubramanian    rb756    "
   ]
  },
  {
   "cell_type": "markdown",
   "id": "4027b252-60af-4f7b-b8bf-ba1455e68c31",
   "metadata": {},
   "source": [
    " ##  Load All required Libraries"
   ]
  },
  {
   "cell_type": "code",
   "execution_count": 7,
   "id": "eaf656a1-cfbd-4439-b210-efefd992091e",
   "metadata": {},
   "outputs": [],
   "source": [
    "###Load Neccessary Libraries\n",
    "library(sparklyr)\n",
    "library(dplyr)\n",
    "library(ggraph)\n",
    "library(igraph)\n",
    "library(graphframes)\n",
    "library(tidyverse)\n",
    "library(lubridate)\n",
    "library(repr)\n",
    "options(repr.plot.width = 15, repr.plot.height = 5)\n",
    "options(warn=-1)\n"
   ]
  },
  {
   "cell_type": "markdown",
   "id": "da2a95a1-27b1-43ea-bd0f-304ba365e73c",
   "metadata": {},
   "source": [
    " ##  Data Preparation\n",
    " ##  Loading All 10 Stocks Dataframes as Single Merged Dataframes for year 2018"
   ]
  },
  {
   "cell_type": "code",
   "execution_count": 8,
   "id": "1267f6a6-e1c6-4891-8db7-4380f9f3ae8f",
   "metadata": {},
   "outputs": [
    {
     "name": "stdout",
     "output_type": "stream",
     "text": [
      "[1] \"############    Midterm project: Equity Portfolio Management ###########\"\n",
      "[1] \"############ Logging Started ################\"\n",
      "[1] \"############\"\n",
      "[1] \"2024-07-08 22:05:20 EDT\"\n",
      "[1] \"Loading Dataframes as Single Merged Dataframe\"\n",
      "[1] \"############\"\n"
     ]
    },
    {
     "data": {
      "text/html": [
       "<table class=\"dataframe\">\n",
       "<caption>A data.frame: 6 × 21</caption>\n",
       "<thead>\n",
       "\t<tr><th></th><th scope=col>Date</th><th scope=col>IBM_Close</th><th scope=col>IBM_Adj_Close</th><th scope=col>MSFT_Close</th><th scope=col>MSFT_Adj_Close</th><th scope=col>GOOG_Close</th><th scope=col>GOOG_Adj_Close</th><th scope=col>AAPL_Close</th><th scope=col>AAPL_Adj_Close</th><th scope=col>AMZN_Close</th><th scope=col>⋯</th><th scope=col>FB_Close</th><th scope=col>FB_Adj_Close</th><th scope=col>NFLX_Close</th><th scope=col>NFLX_Adj_Close</th><th scope=col>TSLA_Close</th><th scope=col>TSLA_Adj_Close</th><th scope=col>ORCL_Close</th><th scope=col>ORCL_Adj_Close</th><th scope=col>SAP_Close</th><th scope=col>SAP_Adj_Close</th></tr>\n",
       "\t<tr><th></th><th scope=col>&lt;chr&gt;</th><th scope=col>&lt;dbl&gt;</th><th scope=col>&lt;dbl&gt;</th><th scope=col>&lt;dbl&gt;</th><th scope=col>&lt;dbl&gt;</th><th scope=col>&lt;dbl&gt;</th><th scope=col>&lt;dbl&gt;</th><th scope=col>&lt;dbl&gt;</th><th scope=col>&lt;dbl&gt;</th><th scope=col>&lt;dbl&gt;</th><th scope=col>⋯</th><th scope=col>&lt;dbl&gt;</th><th scope=col>&lt;dbl&gt;</th><th scope=col>&lt;dbl&gt;</th><th scope=col>&lt;dbl&gt;</th><th scope=col>&lt;dbl&gt;</th><th scope=col>&lt;dbl&gt;</th><th scope=col>&lt;dbl&gt;</th><th scope=col>&lt;dbl&gt;</th><th scope=col>&lt;dbl&gt;</th><th scope=col>&lt;dbl&gt;</th></tr>\n",
       "</thead>\n",
       "<tbody>\n",
       "\t<tr><th scope=row>1</th><td>2018-01-02</td><td>147.4665</td><td>109.5477</td><td>85.95</td><td>80.08091</td><td>53.2500</td><td>53.18947</td><td>43.0650</td><td>40.67097</td><td>59.4505</td><td>⋯</td><td>181.42</td><td>181.0479</td><td>201.07</td><td>201.07</td><td>21.36867</td><td>21.36867</td><td>46.63</td><td>41.98375</td><td>112.39</td><td>101.2103</td></tr>\n",
       "\t<tr><th scope=row>2</th><td>2018-01-03</td><td>151.5201</td><td>112.5590</td><td>86.35</td><td>80.45360</td><td>54.1240</td><td>54.06248</td><td>43.0575</td><td>40.66389</td><td>60.2100</td><td>⋯</td><td>184.67</td><td>184.2913</td><td>205.05</td><td>205.05</td><td>21.15000</td><td>21.15000</td><td>47.71</td><td>42.95613</td><td>113.31</td><td>102.0388</td></tr>\n",
       "\t<tr><th scope=row>3</th><td>2018-01-04</td><td>154.5889</td><td>114.8386</td><td>87.11</td><td>81.16171</td><td>54.3200</td><td>54.25825</td><td>43.2575</td><td>40.85279</td><td>60.4795</td><td>⋯</td><td>184.33</td><td>183.9520</td><td>205.63</td><td>205.63</td><td>20.97467</td><td>20.97467</td><td>48.18</td><td>43.37931</td><td>115.05</td><td>103.6057</td></tr>\n",
       "\t<tr><th scope=row>4</th><td>2018-01-05</td><td>155.3442</td><td>115.3997</td><td>88.19</td><td>82.16798</td><td>55.1115</td><td>55.04886</td><td>43.7500</td><td>41.31790</td><td>61.4570</td><td>⋯</td><td>186.85</td><td>186.4668</td><td>209.99</td><td>209.99</td><td>21.10533</td><td>21.10533</td><td>48.47</td><td>43.64042</td><td>116.33</td><td>104.7584</td></tr>\n",
       "\t<tr><th scope=row>5</th><td>2018-01-08</td><td>156.2811</td><td>116.0957</td><td>88.28</td><td>82.25181</td><td>55.3470</td><td>55.28409</td><td>43.5875</td><td>41.16444</td><td>62.3435</td><td>⋯</td><td>188.28</td><td>187.8939</td><td>212.05</td><td>212.05</td><td>22.42733</td><td>22.42733</td><td>48.98</td><td>44.09959</td><td>114.80</td><td>103.3806</td></tr>\n",
       "\t<tr><th scope=row>6</th><td>2018-01-09</td><td>156.6252</td><td>116.3514</td><td>88.22</td><td>82.19592</td><td>55.3130</td><td>55.25013</td><td>43.5825</td><td>41.15971</td><td>62.6350</td><td>⋯</td><td>187.87</td><td>187.4847</td><td>209.31</td><td>209.31</td><td>22.24600</td><td>22.24600</td><td>49.06</td><td>44.34365</td><td>114.16</td><td>102.8042</td></tr>\n",
       "</tbody>\n",
       "</table>\n"
      ],
      "text/latex": [
       "A data.frame: 6 × 21\n",
       "\\begin{tabular}{r|lllllllllllllllllllll}\n",
       "  & Date & IBM\\_Close & IBM\\_Adj\\_Close & MSFT\\_Close & MSFT\\_Adj\\_Close & GOOG\\_Close & GOOG\\_Adj\\_Close & AAPL\\_Close & AAPL\\_Adj\\_Close & AMZN\\_Close & ⋯ & FB\\_Close & FB\\_Adj\\_Close & NFLX\\_Close & NFLX\\_Adj\\_Close & TSLA\\_Close & TSLA\\_Adj\\_Close & ORCL\\_Close & ORCL\\_Adj\\_Close & SAP\\_Close & SAP\\_Adj\\_Close\\\\\n",
       "  & <chr> & <dbl> & <dbl> & <dbl> & <dbl> & <dbl> & <dbl> & <dbl> & <dbl> & <dbl> & ⋯ & <dbl> & <dbl> & <dbl> & <dbl> & <dbl> & <dbl> & <dbl> & <dbl> & <dbl> & <dbl>\\\\\n",
       "\\hline\n",
       "\t1 & 2018-01-02 & 147.4665 & 109.5477 & 85.95 & 80.08091 & 53.2500 & 53.18947 & 43.0650 & 40.67097 & 59.4505 & ⋯ & 181.42 & 181.0479 & 201.07 & 201.07 & 21.36867 & 21.36867 & 46.63 & 41.98375 & 112.39 & 101.2103\\\\\n",
       "\t2 & 2018-01-03 & 151.5201 & 112.5590 & 86.35 & 80.45360 & 54.1240 & 54.06248 & 43.0575 & 40.66389 & 60.2100 & ⋯ & 184.67 & 184.2913 & 205.05 & 205.05 & 21.15000 & 21.15000 & 47.71 & 42.95613 & 113.31 & 102.0388\\\\\n",
       "\t3 & 2018-01-04 & 154.5889 & 114.8386 & 87.11 & 81.16171 & 54.3200 & 54.25825 & 43.2575 & 40.85279 & 60.4795 & ⋯ & 184.33 & 183.9520 & 205.63 & 205.63 & 20.97467 & 20.97467 & 48.18 & 43.37931 & 115.05 & 103.6057\\\\\n",
       "\t4 & 2018-01-05 & 155.3442 & 115.3997 & 88.19 & 82.16798 & 55.1115 & 55.04886 & 43.7500 & 41.31790 & 61.4570 & ⋯ & 186.85 & 186.4668 & 209.99 & 209.99 & 21.10533 & 21.10533 & 48.47 & 43.64042 & 116.33 & 104.7584\\\\\n",
       "\t5 & 2018-01-08 & 156.2811 & 116.0957 & 88.28 & 82.25181 & 55.3470 & 55.28409 & 43.5875 & 41.16444 & 62.3435 & ⋯ & 188.28 & 187.8939 & 212.05 & 212.05 & 22.42733 & 22.42733 & 48.98 & 44.09959 & 114.80 & 103.3806\\\\\n",
       "\t6 & 2018-01-09 & 156.6252 & 116.3514 & 88.22 & 82.19592 & 55.3130 & 55.25013 & 43.5825 & 41.15971 & 62.6350 & ⋯ & 187.87 & 187.4847 & 209.31 & 209.31 & 22.24600 & 22.24600 & 49.06 & 44.34365 & 114.16 & 102.8042\\\\\n",
       "\\end{tabular}\n"
      ],
      "text/markdown": [
       "\n",
       "A data.frame: 6 × 21\n",
       "\n",
       "| <!--/--> | Date &lt;chr&gt; | IBM_Close &lt;dbl&gt; | IBM_Adj_Close &lt;dbl&gt; | MSFT_Close &lt;dbl&gt; | MSFT_Adj_Close &lt;dbl&gt; | GOOG_Close &lt;dbl&gt; | GOOG_Adj_Close &lt;dbl&gt; | AAPL_Close &lt;dbl&gt; | AAPL_Adj_Close &lt;dbl&gt; | AMZN_Close &lt;dbl&gt; | ⋯ ⋯ | FB_Close &lt;dbl&gt; | FB_Adj_Close &lt;dbl&gt; | NFLX_Close &lt;dbl&gt; | NFLX_Adj_Close &lt;dbl&gt; | TSLA_Close &lt;dbl&gt; | TSLA_Adj_Close &lt;dbl&gt; | ORCL_Close &lt;dbl&gt; | ORCL_Adj_Close &lt;dbl&gt; | SAP_Close &lt;dbl&gt; | SAP_Adj_Close &lt;dbl&gt; |\n",
       "|---|---|---|---|---|---|---|---|---|---|---|---|---|---|---|---|---|---|---|---|---|---|\n",
       "| 1 | 2018-01-02 | 147.4665 | 109.5477 | 85.95 | 80.08091 | 53.2500 | 53.18947 | 43.0650 | 40.67097 | 59.4505 | ⋯ | 181.42 | 181.0479 | 201.07 | 201.07 | 21.36867 | 21.36867 | 46.63 | 41.98375 | 112.39 | 101.2103 |\n",
       "| 2 | 2018-01-03 | 151.5201 | 112.5590 | 86.35 | 80.45360 | 54.1240 | 54.06248 | 43.0575 | 40.66389 | 60.2100 | ⋯ | 184.67 | 184.2913 | 205.05 | 205.05 | 21.15000 | 21.15000 | 47.71 | 42.95613 | 113.31 | 102.0388 |\n",
       "| 3 | 2018-01-04 | 154.5889 | 114.8386 | 87.11 | 81.16171 | 54.3200 | 54.25825 | 43.2575 | 40.85279 | 60.4795 | ⋯ | 184.33 | 183.9520 | 205.63 | 205.63 | 20.97467 | 20.97467 | 48.18 | 43.37931 | 115.05 | 103.6057 |\n",
       "| 4 | 2018-01-05 | 155.3442 | 115.3997 | 88.19 | 82.16798 | 55.1115 | 55.04886 | 43.7500 | 41.31790 | 61.4570 | ⋯ | 186.85 | 186.4668 | 209.99 | 209.99 | 21.10533 | 21.10533 | 48.47 | 43.64042 | 116.33 | 104.7584 |\n",
       "| 5 | 2018-01-08 | 156.2811 | 116.0957 | 88.28 | 82.25181 | 55.3470 | 55.28409 | 43.5875 | 41.16444 | 62.3435 | ⋯ | 188.28 | 187.8939 | 212.05 | 212.05 | 22.42733 | 22.42733 | 48.98 | 44.09959 | 114.80 | 103.3806 |\n",
       "| 6 | 2018-01-09 | 156.6252 | 116.3514 | 88.22 | 82.19592 | 55.3130 | 55.25013 | 43.5825 | 41.15971 | 62.6350 | ⋯ | 187.87 | 187.4847 | 209.31 | 209.31 | 22.24600 | 22.24600 | 49.06 | 44.34365 | 114.16 | 102.8042 |\n",
       "\n"
      ],
      "text/plain": [
       "  Date       IBM_Close IBM_Adj_Close MSFT_Close MSFT_Adj_Close GOOG_Close\n",
       "1 2018-01-02 147.4665  109.5477      85.95      80.08091       53.2500   \n",
       "2 2018-01-03 151.5201  112.5590      86.35      80.45360       54.1240   \n",
       "3 2018-01-04 154.5889  114.8386      87.11      81.16171       54.3200   \n",
       "4 2018-01-05 155.3442  115.3997      88.19      82.16798       55.1115   \n",
       "5 2018-01-08 156.2811  116.0957      88.28      82.25181       55.3470   \n",
       "6 2018-01-09 156.6252  116.3514      88.22      82.19592       55.3130   \n",
       "  GOOG_Adj_Close AAPL_Close AAPL_Adj_Close AMZN_Close ⋯ FB_Close FB_Adj_Close\n",
       "1 53.18947       43.0650    40.67097       59.4505    ⋯ 181.42   181.0479    \n",
       "2 54.06248       43.0575    40.66389       60.2100    ⋯ 184.67   184.2913    \n",
       "3 54.25825       43.2575    40.85279       60.4795    ⋯ 184.33   183.9520    \n",
       "4 55.04886       43.7500    41.31790       61.4570    ⋯ 186.85   186.4668    \n",
       "5 55.28409       43.5875    41.16444       62.3435    ⋯ 188.28   187.8939    \n",
       "6 55.25013       43.5825    41.15971       62.6350    ⋯ 187.87   187.4847    \n",
       "  NFLX_Close NFLX_Adj_Close TSLA_Close TSLA_Adj_Close ORCL_Close ORCL_Adj_Close\n",
       "1 201.07     201.07         21.36867   21.36867       46.63      41.98375      \n",
       "2 205.05     205.05         21.15000   21.15000       47.71      42.95613      \n",
       "3 205.63     205.63         20.97467   20.97467       48.18      43.37931      \n",
       "4 209.99     209.99         21.10533   21.10533       48.47      43.64042      \n",
       "5 212.05     212.05         22.42733   22.42733       48.98      44.09959      \n",
       "6 209.31     209.31         22.24600   22.24600       49.06      44.34365      \n",
       "  SAP_Close SAP_Adj_Close\n",
       "1 112.39    101.2103     \n",
       "2 113.31    102.0388     \n",
       "3 115.05    103.6057     \n",
       "4 116.33    104.7584     \n",
       "5 114.80    103.3806     \n",
       "6 114.16    102.8042     "
      ]
     },
     "metadata": {},
     "output_type": "display_data"
    }
   ],
   "source": [
    "print(\"############    Midterm project: Equity Portfolio Management ###########\")\n",
    "###Set the Path where we have input csv files for all datasets\n",
    "setwd(\"C:\\\\Users\\\\pravi\\\\OneDrive\\\\Desktop\\\\Mallika-NJIT\\\\DS-636-AnalyticsWithR\\\\Week6\\\\MidTerm-Project\\\\\")\n",
    "print(\"############ Logging Started ################\")                        \n",
    "\n",
    "###Loading Stock Dataframes as Single Merged Dataframe\n",
    "    print(\"############\")\n",
    "    print(Sys.time())\n",
    "    print(\"Loading Dataframes as Single Merged Dataframe\")\n",
    "    print(\"############\")\n",
    "    StockUniverse = c('IBM', 'MSFT', 'GOOG', 'AAPL', 'AMZN', 'FB', 'NFLX', 'TSLA', 'ORCL', 'SAP')\n",
    "    get_stock_dataframes = function(X){\n",
    "        file_name = paste0(X, \".csv\")\n",
    "        DataFile = read.csv(file_name)\n",
    "        stock_All_Price_data = DataFile %>% select(Date,   Close,  Adj.Close)\n",
    "        return(stock_All_Price_data)\n",
    "    }\n",
    "    \n",
    "    ### Calling get_stock_dataframes function to Fetch Data for all 10 DataFrames using lapply and save as list\n",
    "    StockUniverse_DataframeList = lapply(StockUniverse, get_stock_dataframes)\n",
    "    names(StockUniverse_DataframeList) = StockUniverse\n",
    "    Merged_ALL_Stock_Datas = Reduce(function(x, y) merge(x, y, by = \"Date\", all = TRUE), StockUniverse_DataframeList)\n",
    "    ColumnListNames = c(\"Date\", paste(rep(StockUniverse, each = 2), c(\"Close\", \"Adj_Close\"), sep = \"_\"))\n",
    "    colnames(Merged_ALL_Stock_Datas) = ColumnListNames\n",
    "    head(Merged_ALL_Stock_Datas) "
   ]
  },
  {
   "cell_type": "markdown",
   "id": "b730ff85-d7ba-45f0-aae3-8ff5fb33d9ed",
   "metadata": {},
   "source": [
    " ##  Loading 2018 Holidays and  USD2JPY FX details\n",
    " #### After some data exploratory found FED closed on Dec 5th\r\n"
   ]
  },
  {
   "cell_type": "code",
   "execution_count": 9,
   "id": "691c6048-2909-45ed-9281-f03810a5032d",
   "metadata": {},
   "outputs": [
    {
     "name": "stdout",
     "output_type": "stream",
     "text": [
      "[1] \"#################\"\n",
      "[1] \"2024-07-08 22:05:25 EDT\"\n",
      "[1] \"Loading holidays and Load USD2JPY FX details as Separate Dataframes\"\n",
      "[1] \"#################\"\n"
     ]
    },
    {
     "data": {
      "text/html": [
       "<style>\n",
       ".list-inline {list-style: none; margin:0; padding: 0}\n",
       ".list-inline>li {display: inline-block}\n",
       ".list-inline>li:not(:last-child)::after {content: \"\\00b7\"; padding: 0 .5ex}\n",
       "</style>\n",
       "<ol class=list-inline><li><time datetime=\"2018-01-01\">2018-01-01</time></li><li><time datetime=\"2018-01-15\">2018-01-15</time></li><li><time datetime=\"2018-02-19\">2018-02-19</time></li><li><time datetime=\"2018-03-30\">2018-03-30</time></li><li><time datetime=\"2018-05-28\">2018-05-28</time></li><li><time datetime=\"2018-07-04\">2018-07-04</time></li></ol>\n"
      ],
      "text/latex": [
       "\\begin{enumerate*}\n",
       "\\item 2018-01-01\n",
       "\\item 2018-01-15\n",
       "\\item 2018-02-19\n",
       "\\item 2018-03-30\n",
       "\\item 2018-05-28\n",
       "\\item 2018-07-04\n",
       "\\end{enumerate*}\n"
      ],
      "text/markdown": [
       "1. 2018-01-01\n",
       "2. 2018-01-15\n",
       "3. 2018-02-19\n",
       "4. 2018-03-30\n",
       "5. 2018-05-28\n",
       "6. 2018-07-04\n",
       "\n",
       "\n"
      ],
      "text/plain": [
       "[1] \"2018-01-01\" \"2018-01-15\" \"2018-02-19\" \"2018-03-30\" \"2018-05-28\"\n",
       "[6] \"2018-07-04\""
      ]
     },
     "metadata": {},
     "output_type": "display_data"
    },
    {
     "data": {
      "text/html": [
       "<table class=\"dataframe\">\n",
       "<caption>A data.frame: 6 × 2</caption>\n",
       "<thead>\n",
       "\t<tr><th></th><th scope=col>Date</th><th scope=col>Close</th></tr>\n",
       "\t<tr><th></th><th scope=col>&lt;chr&gt;</th><th scope=col>&lt;dbl&gt;</th></tr>\n",
       "</thead>\n",
       "<tbody>\n",
       "\t<tr><th scope=row>1</th><td>2018-01-02</td><td>112.770</td></tr>\n",
       "\t<tr><th scope=row>2</th><td>2018-01-03</td><td>112.244</td></tr>\n",
       "\t<tr><th scope=row>3</th><td>2018-01-04</td><td>112.607</td></tr>\n",
       "\t<tr><th scope=row>4</th><td>2018-01-05</td><td>112.783</td></tr>\n",
       "\t<tr><th scope=row>5</th><td>2018-01-08</td><td>113.154</td></tr>\n",
       "\t<tr><th scope=row>6</th><td>2018-01-09</td><td>113.141</td></tr>\n",
       "</tbody>\n",
       "</table>\n"
      ],
      "text/latex": [
       "A data.frame: 6 × 2\n",
       "\\begin{tabular}{r|ll}\n",
       "  & Date & Close\\\\\n",
       "  & <chr> & <dbl>\\\\\n",
       "\\hline\n",
       "\t1 & 2018-01-02 & 112.770\\\\\n",
       "\t2 & 2018-01-03 & 112.244\\\\\n",
       "\t3 & 2018-01-04 & 112.607\\\\\n",
       "\t4 & 2018-01-05 & 112.783\\\\\n",
       "\t5 & 2018-01-08 & 113.154\\\\\n",
       "\t6 & 2018-01-09 & 113.141\\\\\n",
       "\\end{tabular}\n"
      ],
      "text/markdown": [
       "\n",
       "A data.frame: 6 × 2\n",
       "\n",
       "| <!--/--> | Date &lt;chr&gt; | Close &lt;dbl&gt; |\n",
       "|---|---|---|\n",
       "| 1 | 2018-01-02 | 112.770 |\n",
       "| 2 | 2018-01-03 | 112.244 |\n",
       "| 3 | 2018-01-04 | 112.607 |\n",
       "| 4 | 2018-01-05 | 112.783 |\n",
       "| 5 | 2018-01-08 | 113.154 |\n",
       "| 6 | 2018-01-09 | 113.141 |\n",
       "\n"
      ],
      "text/plain": [
       "  Date       Close  \n",
       "1 2018-01-02 112.770\n",
       "2 2018-01-03 112.244\n",
       "3 2018-01-04 112.607\n",
       "4 2018-01-05 112.783\n",
       "5 2018-01-08 113.154\n",
       "6 2018-01-09 113.141"
      ]
     },
     "metadata": {},
     "output_type": "display_data"
    }
   ],
   "source": [
    "### Define holidays and Load USD2JPY FX details\n",
    "    print(\"#################\")\n",
    "    print(Sys.time())\n",
    "    print(\"Loading holidays and Load USD2JPY FX details as Separate Dataframes\")  \n",
    "    print(\"#################\")    \n",
    "                                    \n",
    "    holidays <- as.Date(c(\"2018-01-01\", \"2018-01-15\", \"2018-02-19\", \"2018-03-30\", \"2018-05-28\",\"2018-07-04\", \"2018-09-03\", \"2018-11-22\", \"2018-12-25\" ,\"2018-12-05\"))\n",
    "    USDJPY = read.csv(\"jpy_conversion.csv\")\n",
    "    USDJPY_FX = USDJPY %>% filter(!(Date %in% holidays)) %>% select(Date,Close)\n",
    "    head(holidays)\n",
    "    head(USDJPY_FX)"
   ]
  },
  {
   "cell_type": "markdown",
   "id": "036e017a-a71d-4797-a2de-b9d707266267",
   "metadata": {},
   "source": [
    " ##  Function To calculate and Load Dividend Details for all 10 stocks"
   ]
  },
  {
   "cell_type": "code",
   "execution_count": 10,
   "id": "feeb76f8-0563-48b9-b091-2d70abeffe13",
   "metadata": {},
   "outputs": [
    {
     "name": "stdout",
     "output_type": "stream",
     "text": [
      "[1] \"#################\"\n",
      "[1] \"2024-07-08 22:05:31 EDT\"\n",
      "[1] \"Loading Dividend Details in a Dataframe\"\n",
      "[1] \"#################\"\n"
     ]
    },
    {
     "data": {
      "text/html": [
       "<table class=\"dataframe\">\n",
       "<caption>A data.frame: 6 × 3</caption>\n",
       "<thead>\n",
       "\t<tr><th></th><th scope=col>StockName</th><th scope=col>DividendDay</th><th scope=col>DividendAmount</th></tr>\n",
       "\t<tr><th></th><th scope=col>&lt;chr&gt;</th><th scope=col>&lt;chr&gt;</th><th scope=col>&lt;dbl&gt;</th></tr>\n",
       "</thead>\n",
       "<tbody>\n",
       "\t<tr><th scope=row>13</th><td>ORCL</td><td>2018-01-09</td><td>0.190</td></tr>\n",
       "\t<tr><th scope=row>1</th><td>IBM </td><td>2018-02-08</td><td>1.434</td></tr>\n",
       "\t<tr><th scope=row>9</th><td>AAPL</td><td>2018-02-09</td><td>0.157</td></tr>\n",
       "\t<tr><th scope=row>5</th><td>MSFT</td><td>2018-02-14</td><td>0.420</td></tr>\n",
       "\t<tr><th scope=row>14</th><td>ORCL</td><td>2018-04-16</td><td>0.190</td></tr>\n",
       "\t<tr><th scope=row>2</th><td>IBM </td><td>2018-05-09</td><td>1.501</td></tr>\n",
       "</tbody>\n",
       "</table>\n"
      ],
      "text/latex": [
       "A data.frame: 6 × 3\n",
       "\\begin{tabular}{r|lll}\n",
       "  & StockName & DividendDay & DividendAmount\\\\\n",
       "  & <chr> & <chr> & <dbl>\\\\\n",
       "\\hline\n",
       "\t13 & ORCL & 2018-01-09 & 0.190\\\\\n",
       "\t1 & IBM  & 2018-02-08 & 1.434\\\\\n",
       "\t9 & AAPL & 2018-02-09 & 0.157\\\\\n",
       "\t5 & MSFT & 2018-02-14 & 0.420\\\\\n",
       "\t14 & ORCL & 2018-04-16 & 0.190\\\\\n",
       "\t2 & IBM  & 2018-05-09 & 1.501\\\\\n",
       "\\end{tabular}\n"
      ],
      "text/markdown": [
       "\n",
       "A data.frame: 6 × 3\n",
       "\n",
       "| <!--/--> | StockName &lt;chr&gt; | DividendDay &lt;chr&gt; | DividendAmount &lt;dbl&gt; |\n",
       "|---|---|---|---|\n",
       "| 13 | ORCL | 2018-01-09 | 0.190 |\n",
       "| 1 | IBM  | 2018-02-08 | 1.434 |\n",
       "| 9 | AAPL | 2018-02-09 | 0.157 |\n",
       "| 5 | MSFT | 2018-02-14 | 0.420 |\n",
       "| 14 | ORCL | 2018-04-16 | 0.190 |\n",
       "| 2 | IBM  | 2018-05-09 | 1.501 |\n",
       "\n"
      ],
      "text/plain": [
       "   StockName DividendDay DividendAmount\n",
       "13 ORCL      2018-01-09  0.190         \n",
       "1  IBM       2018-02-08  1.434         \n",
       "9  AAPL      2018-02-09  0.157         \n",
       "5  MSFT      2018-02-14  0.420         \n",
       "14 ORCL      2018-04-16  0.190         \n",
       "2  IBM       2018-05-09  1.501         "
      ]
     },
     "metadata": {},
     "output_type": "display_data"
    }
   ],
   "source": [
    "###Function To Load Dividend Details\n",
    "    print(\"#################\")\n",
    "    print(Sys.time())\n",
    "    print(\"Loading Dividend Details in a Dataframe\")  \n",
    "    print(\"#################\") \n",
    "    ###Function to Find Dividend Day and Amount\n",
    "    Find_Dividend_Date = function(X){\n",
    "        DataFile = StockUniverse_DataframeList[[X]]\n",
    "        X1 = mutate(DataFile,CloseLag=lag(Close),AdjCloseLag=lag(Adj.Close),CloseRatio=CloseLag/Close,\n",
    "                    AdjCloseRatio=AdjCloseLag/Adj.Close ,Dividend=round((CloseRatio-AdjCloseRatio) * Close , 3),StockName=X)\n",
    "        X2 = select(X1,Date,Close,CloseLag,CloseRatio,Adj.Close,AdjCloseLag,AdjCloseRatio,Dividend,StockName)\n",
    "        X3 = filter(X2,Dividend >0 )\n",
    "        X4 = select(X3,StockName=StockName, \"DividendDay\"=Date,\"DividendAmount\"=Dividend)\n",
    "        if(nrow(X3) > 0)\n",
    "        {\n",
    "            return(X4)\n",
    "        }\n",
    "    }\n",
    "    ###Step to Find Dividend Day and Amount for All 10 Stocks and Store in All_Dividend_Details Dataframe\n",
    "    Merged_DF = data.frame;\n",
    "    dividends_list = sapply(StockUniverse, Find_Dividend_Date)\n",
    "    All_Dividend_Details = Reduce(function(x, y) rbind(x, y), dividends_list)\n",
    "    All_Dividend_Details = All_Dividend_Details[order(All_Dividend_Details$DividendDay), ]                    \n",
    "    head(All_Dividend_Details)\n"
   ]
  },
  {
   "cell_type": "markdown",
   "id": "9b613edb-45d0-47e2-9517-cecf953c6bbe",
   "metadata": {},
   "source": [
    " ##  Function to Calculate Dividend Amount for stocks held on a particular Day "
   ]
  },
  {
   "cell_type": "code",
   "execution_count": 11,
   "id": "c810316e-7484-4c30-844d-43cb4ff0fb58",
   "metadata": {},
   "outputs": [],
   "source": [
    "###Function To Calculate Dividend Amount for stocks held on a particular Day \n",
    "\n",
    "Calculate_Dividend_Amount  = function(portfolio,Date){\n",
    "    DividenDPaidAmount = 0\n",
    "    tempDiv = data.frame(Div=c(0,0,0,0,0),SN= portfolio$Stock)\n",
    "    ###Check If Any Dividend for this Date and stock hold this day \n",
    "    DividendP = All_Dividend_Details %>% filter(All_Dividend_Details$DividendDay == Date) %>% select(DividendAmount,DividendDay,StockName)\n",
    "    if(nrow(DividendP) > 0 )\n",
    "    {\n",
    "        for (stock in portfolio$Stock){\n",
    "            for (StockName in DividendP$StockName){\n",
    "            if(stock == StockName){\n",
    "                SharesCnt = portfolio %>% filter(portfolio$Stock == StockName ) %>% select(Shares)\n",
    "                DP = DividendP %>% filter(DividendP$StockName == stock ) %>% select(DividendAmount)\n",
    "                DividenDPaidAmount = (as.integer(SharesCnt) * DP)\n",
    "                tempDiv$Div[tempDiv$SN == StockName] = DividenDPaidAmount\n",
    "            }\n",
    "            }\n",
    "        }\n",
    "    }\n",
    "    return(tempDiv)\n",
    "}"
   ]
  },
  {
   "cell_type": "markdown",
   "id": "c1066fad-7755-48b6-b863-2fe42b6c8e3c",
   "metadata": {},
   "source": [
    " ##  Function To get Rebalance Portfolio Details for Type = (Low or High) and Holding days = n"
   ]
  },
  {
   "cell_type": "code",
   "execution_count": 12,
   "id": "106d96b2-397a-4829-bf0b-09fb03d415aa",
   "metadata": {},
   "outputs": [],
   "source": [
    "###Function To get Rebalance Portfolio Details for Type = (Low or High) and Holding days = n\n",
    "  \n",
    "Get_Rebalance_Portfolio_Details = function(rowNumber,Date,portfolio,Type,holding_days){\n",
    "    if(rowNumber == 1){   ###Calculate Initial Portfolio Dataframe for Jan 02, 2018\n",
    "        Total_Initial_Investment_Amount = 5000000\n",
    "        Investment_Amount_PerStock =  as.numeric(Total_Initial_Investment_Amount / 5)                       \n",
    "        SelectedStocks = c(\"IBM\", \"MSFT\", \"GOOG\", \"AAPL\", \"AMZN\")\n",
    "        StockDate = Date\n",
    "        ClosePricePerSelectedStocks = Merged_ALL_Stock_Datas %>% filter(Date == StockDate )  %>% select(paste0(SelectedStocks, \"_Close\"))\n",
    "        Price = as.numeric(ClosePricePerSelectedStocks)\n",
    "        Shares = floor(Investment_Amount_PerStock / as.numeric(ClosePricePerSelectedStocks))\n",
    "        #Invested = (Investment_Amount_PerStock / as.numeric(ClosePricePerSelectedStocks)) * as.numeric(ClosePricePerSelectedStocks)\n",
    "        Invested =  as.numeric(ClosePricePerSelectedStocks) * as.numeric(Shares)\n",
    "        Cash_Remaining = Investment_Amount_PerStock - Invested\n",
    "        Dividend = 0\n",
    "    \n",
    "    }\n",
    "    else if(rowNumber %% holding_days == 1 ) ###Calculate Rebalance Portfolio Dataframe for Every Nth holding Days\n",
    "    {\n",
    "        tempDiv = Calculate_Dividend_Amount(portfolio,Date)\n",
    "        StockDate = Date\n",
    "        # Get Adj Close prices for the Prev and current date and calculate Percentage Drop\n",
    "        Prev_5Day_AdjPrice = Merged_ALL_Stock_Datas %>% filter(Date == portfolio$Date) %>% select(ends_with(\"_Adj_Close\"))\n",
    "        Curr_AdjPrice = Merged_ALL_Stock_Datas %>% filter(Date == StockDate) %>% select(ends_with(\"_Adj_Close\"))\n",
    "        Adj_PriceChange = (Curr_AdjPrice - Prev_5Day_AdjPrice) / Prev_5Day_AdjPrice\n",
    "        if(Type == \"Low\") # Select 5 stocks with the highest drop and get StockNames\n",
    "        {\n",
    "            SelectedStocks =  colnames(Adj_PriceChange)[order(as.numeric(Adj_PriceChange), decreasing = FALSE)[1:5]]\n",
    "        }\n",
    "        else if (Type == \"High\") # Select 5 stocks with the Lowest drop and get StockNames\n",
    "        {\n",
    "            SelectedStocks =  colnames(Adj_PriceChange)[order(as.numeric(Adj_PriceChange), decreasing = FALSE)[6:10]]\n",
    "        }\n",
    "        SelectedStocks = as.character(sapply(SelectedStocks, function(x) strsplit(x, \"_Adj_Close\")[1][1]))\n",
    "        ###Calculate the Sell Amount to split for next investment\n",
    "        ###Get Current Date Close Price for Previously bought stocks multiplied with PrevSharesBought count\n",
    "        ###Sum of Selling Amount and Previous Cash in Hand Plus Dividend Paid\n",
    "        ### Divide this Amount by 5 to buy new selected stocks  \n",
    "        ClosePricePerSelectedStocks = Merged_ALL_Stock_Datas %>% filter(Date == StockDate )  %>% select(paste0(portfolio$Stock, \"_Close\"))\n",
    "        Total_Initial_Investment_Amount = sum(ClosePricePerSelectedStocks * portfolio$Shares) + sum(portfolio$Cash_Remaining) \n",
    "        Total_Initial_Investment_Amount  = Total_Initial_Investment_Amount + sum(as.integer(tempDiv$Div))                \n",
    "        Investment_Amount_PerStock =  as.numeric(Total_Initial_Investment_Amount / 5 )                        \n",
    "        ClosePricePerSelectedStocks = Merged_ALL_Stock_Datas %>% filter(Date == StockDate )  %>% select(paste0(SelectedStocks, \"_Close\"))\n",
    "        Price = as.numeric(ClosePricePerSelectedStocks)\n",
    "        Shares = floor(Investment_Amount_PerStock / as.numeric(ClosePricePerSelectedStocks))\n",
    "        Invested = as.numeric(ClosePricePerSelectedStocks) * as.numeric(Shares)\n",
    "        Cash_Remaining = Investment_Amount_PerStock - Invested\n",
    "        Dividend = as.integer(tempDiv$Div)\n",
    "    }\n",
    "    else  ### For all other Days\n",
    "    {\n",
    "        tempDiv = Calculate_Dividend_Amount(portfolio,Date)\n",
    "        StockDate = Date\n",
    "        SelectedStocks = portfolio$Stock\n",
    "        ClosePricePerSelectedStocks = Merged_ALL_Stock_Datas %>% filter(Date == StockDate )  %>% select(paste0(SelectedStocks, \"_Close\"))\n",
    "        Price = as.numeric(ClosePricePerSelectedStocks)\n",
    "        Shares = floor(portfolio$Shares)\n",
    "        Invested = floor(portfolio$Shares) * as.numeric(ClosePricePerSelectedStocks)\n",
    "        Cash_Remaining = portfolio$Cash_Remaining \n",
    "        Dividend = as.integer(tempDiv$Div)\n",
    "    }\n",
    "    \n",
    "    Portfolio = data.frame(\n",
    "    Date = StockDate,\n",
    "    Stock = SelectedStocks,\n",
    "    Price = Price,\n",
    "    Shares = Shares,\n",
    "    Invested = Invested,\n",
    "    Cash_Remaining = Cash_Remaining, \n",
    "    Dividend = Dividend,\n",
    "    NetWorthPerShare = Invested + Cash_Remaining + Dividend\n",
    "    ) \n",
    "    #print(Portfolio)\n",
    "   \n",
    "    return( Portfolio)\n",
    "}"
   ]
  },
  {
   "cell_type": "markdown",
   "id": "8523da86-4773-4291-8b0f-8b0713a502ac",
   "metadata": {},
   "source": [
    "##      Function to Get Portfolio Details with Rebalancing Strategy "
   ]
  },
  {
   "cell_type": "code",
   "execution_count": 13,
   "id": "46f11d47-4877-4525-9362-9d48d3e8fbf2",
   "metadata": {},
   "outputs": [],
   "source": [
    "### Function to Get Portfolio Details\n",
    "\n",
    "Get_PortfolioDetails = function(Type , holding_days) {                                             \n",
    "    Portfolio_All_DataA = data.frame();\n",
    "    Portfolio = data.frame();                          \n",
    "    holding_days = holding_days\n",
    "    for (i in seq(1, nrow(Merged_ALL_Stock_Datas)))\n",
    "    {\n",
    "        Date = Merged_ALL_Stock_Datas$Date[i]\n",
    "        if(Type == \"Low\"){\n",
    "            Portfolio =  Get_Rebalance_Portfolio_Details(i,Date,Portfolio,\"Low\" ,holding_days )\n",
    "        }\n",
    "        else if (Type == \"High\")\n",
    "        {\n",
    "            Portfolio =  Get_Rebalance_Portfolio_Details(i,Date,Portfolio,\"High\",holding_days)\n",
    "        }\n",
    "        Portfolio_All_DataA = rbind(Portfolio_All_DataA,Portfolio)\n",
    "    }\n",
    "    return(Portfolio_All_DataA)\n",
    "}"
   ]
  },
  {
   "cell_type": "markdown",
   "id": "5d95933b-77fb-4c66-b0c3-cebbe2f71ab9",
   "metadata": {},
   "source": [
    "##      Low and High Rebalancing Portfolio for 5 days holding period with USD and JPY Ccy and calculating High-Tech index "
   ]
  },
  {
   "cell_type": "code",
   "execution_count": 14,
   "id": "2f9ec0c2-cb9a-4b67-b06b-34deb346d72a",
   "metadata": {},
   "outputs": [
    {
     "name": "stdout",
     "output_type": "stream",
     "text": [
      "[1] \"#################\"\n",
      "[1] \"2024-07-08 22:05:53 EDT\"\n",
      "[1] \"Calculating Rebalancing Portfolio\"\n",
      "[1] \"#################\"\n",
      "[1] \"#################\"\n",
      "[1] \"2024-07-08 22:06:00 EDT\"\n",
      "[1] \"Rebalancing Portfolio for 5 Days LOW strategy \"\n",
      "[1] \"#################\"\n"
     ]
    },
    {
     "data": {
      "text/html": [
       "<table class=\"dataframe\">\n",
       "<caption>A data.frame: 6 × 5</caption>\n",
       "<thead>\n",
       "\t<tr><th></th><th scope=col>Date</th><th scope=col>Low_MTM</th><th scope=col>JPY_Low_MTM</th><th scope=col>Percentage_L_MTM</th><th scope=col>Percentage_JPY_L_MTM</th></tr>\n",
       "\t<tr><th></th><th scope=col>&lt;chr&gt;</th><th scope=col>&lt;dbl&gt;</th><th scope=col>&lt;dbl&gt;</th><th scope=col>&lt;dbl&gt;</th><th scope=col>&lt;dbl&gt;</th></tr>\n",
       "</thead>\n",
       "<tbody>\n",
       "\t<tr><th scope=row>1</th><td>2018-01-02</td><td>5000000</td><td>563849985</td><td>0.000000</td><td>0.000000</td></tr>\n",
       "\t<tr><th scope=row>2</th><td>2018-01-03</td><td>5061154</td><td>568084205</td><td>1.223084</td><td>0.750948</td></tr>\n",
       "\t<tr><th scope=row>3</th><td>2018-01-04</td><td>5103664</td><td>574708246</td><td>2.073270</td><td>1.925736</td></tr>\n",
       "\t<tr><th scope=row>4</th><td>2018-01-05</td><td>5164091</td><td>582421611</td><td>3.281811</td><td>3.293718</td></tr>\n",
       "\t<tr><th scope=row>5</th><td>2018-01-08</td><td>5187051</td><td>586935550</td><td>3.741018</td><td>4.094274</td></tr>\n",
       "\t<tr><th scope=row>6</th><td>2018-01-09</td><td>5192835</td><td>587522554</td><td>3.856703</td><td>4.198381</td></tr>\n",
       "</tbody>\n",
       "</table>\n"
      ],
      "text/latex": [
       "A data.frame: 6 × 5\n",
       "\\begin{tabular}{r|lllll}\n",
       "  & Date & Low\\_MTM & JPY\\_Low\\_MTM & Percentage\\_L\\_MTM & Percentage\\_JPY\\_L\\_MTM\\\\\n",
       "  & <chr> & <dbl> & <dbl> & <dbl> & <dbl>\\\\\n",
       "\\hline\n",
       "\t1 & 2018-01-02 & 5000000 & 563849985 & 0.000000 & 0.000000\\\\\n",
       "\t2 & 2018-01-03 & 5061154 & 568084205 & 1.223084 & 0.750948\\\\\n",
       "\t3 & 2018-01-04 & 5103664 & 574708246 & 2.073270 & 1.925736\\\\\n",
       "\t4 & 2018-01-05 & 5164091 & 582421611 & 3.281811 & 3.293718\\\\\n",
       "\t5 & 2018-01-08 & 5187051 & 586935550 & 3.741018 & 4.094274\\\\\n",
       "\t6 & 2018-01-09 & 5192835 & 587522554 & 3.856703 & 4.198381\\\\\n",
       "\\end{tabular}\n"
      ],
      "text/markdown": [
       "\n",
       "A data.frame: 6 × 5\n",
       "\n",
       "| <!--/--> | Date &lt;chr&gt; | Low_MTM &lt;dbl&gt; | JPY_Low_MTM &lt;dbl&gt; | Percentage_L_MTM &lt;dbl&gt; | Percentage_JPY_L_MTM &lt;dbl&gt; |\n",
       "|---|---|---|---|---|---|\n",
       "| 1 | 2018-01-02 | 5000000 | 563849985 | 0.000000 | 0.000000 |\n",
       "| 2 | 2018-01-03 | 5061154 | 568084205 | 1.223084 | 0.750948 |\n",
       "| 3 | 2018-01-04 | 5103664 | 574708246 | 2.073270 | 1.925736 |\n",
       "| 4 | 2018-01-05 | 5164091 | 582421611 | 3.281811 | 3.293718 |\n",
       "| 5 | 2018-01-08 | 5187051 | 586935550 | 3.741018 | 4.094274 |\n",
       "| 6 | 2018-01-09 | 5192835 | 587522554 | 3.856703 | 4.198381 |\n",
       "\n"
      ],
      "text/plain": [
       "  Date       Low_MTM JPY_Low_MTM Percentage_L_MTM Percentage_JPY_L_MTM\n",
       "1 2018-01-02 5000000 563849985   0.000000         0.000000            \n",
       "2 2018-01-03 5061154 568084205   1.223084         0.750948            \n",
       "3 2018-01-04 5103664 574708246   2.073270         1.925736            \n",
       "4 2018-01-05 5164091 582421611   3.281811         3.293718            \n",
       "5 2018-01-08 5187051 586935550   3.741018         4.094274            \n",
       "6 2018-01-09 5192835 587522554   3.856703         4.198381            "
      ]
     },
     "metadata": {},
     "output_type": "display_data"
    },
    {
     "data": {
      "text/html": [
       "<table class=\"dataframe\">\n",
       "<caption>A data.frame: 6 × 5</caption>\n",
       "<thead>\n",
       "\t<tr><th></th><th scope=col>Date</th><th scope=col>Low_MTM</th><th scope=col>JPY_Low_MTM</th><th scope=col>Percentage_L_MTM</th><th scope=col>Percentage_JPY_L_MTM</th></tr>\n",
       "\t<tr><th></th><th scope=col>&lt;chr&gt;</th><th scope=col>&lt;dbl&gt;</th><th scope=col>&lt;dbl&gt;</th><th scope=col>&lt;dbl&gt;</th><th scope=col>&lt;dbl&gt;</th></tr>\n",
       "</thead>\n",
       "<tbody>\n",
       "\t<tr><th scope=row>245</th><td>2018-12-20</td><td>5043321</td><td>566919756</td><td> 0.866424</td><td> 0.5444304</td></tr>\n",
       "\t<tr><th scope=row>246</th><td>2018-12-21</td><td>4868770</td><td>541266063</td><td>-2.624592</td><td>-4.0053068</td></tr>\n",
       "\t<tr><th scope=row>247</th><td>2018-12-24</td><td>4748185</td><td>527304922</td><td>-5.036304</td><td>-6.4813451</td></tr>\n",
       "\t<tr><th scope=row>248</th><td>2018-12-26</td><td>5071274</td><td>559878738</td><td> 1.425470</td><td>-0.7043091</td></tr>\n",
       "\t<tr><th scope=row>249</th><td>2018-12-27</td><td>5089474</td><td>565980019</td><td> 1.789474</td><td> 0.3777661</td></tr>\n",
       "\t<tr><th scope=row>250</th><td>2018-12-28</td><td>5091589</td><td>564428082</td><td> 1.831774</td><td> 0.1025267</td></tr>\n",
       "</tbody>\n",
       "</table>\n"
      ],
      "text/latex": [
       "A data.frame: 6 × 5\n",
       "\\begin{tabular}{r|lllll}\n",
       "  & Date & Low\\_MTM & JPY\\_Low\\_MTM & Percentage\\_L\\_MTM & Percentage\\_JPY\\_L\\_MTM\\\\\n",
       "  & <chr> & <dbl> & <dbl> & <dbl> & <dbl>\\\\\n",
       "\\hline\n",
       "\t245 & 2018-12-20 & 5043321 & 566919756 &  0.866424 &  0.5444304\\\\\n",
       "\t246 & 2018-12-21 & 4868770 & 541266063 & -2.624592 & -4.0053068\\\\\n",
       "\t247 & 2018-12-24 & 4748185 & 527304922 & -5.036304 & -6.4813451\\\\\n",
       "\t248 & 2018-12-26 & 5071274 & 559878738 &  1.425470 & -0.7043091\\\\\n",
       "\t249 & 2018-12-27 & 5089474 & 565980019 &  1.789474 &  0.3777661\\\\\n",
       "\t250 & 2018-12-28 & 5091589 & 564428082 &  1.831774 &  0.1025267\\\\\n",
       "\\end{tabular}\n"
      ],
      "text/markdown": [
       "\n",
       "A data.frame: 6 × 5\n",
       "\n",
       "| <!--/--> | Date &lt;chr&gt; | Low_MTM &lt;dbl&gt; | JPY_Low_MTM &lt;dbl&gt; | Percentage_L_MTM &lt;dbl&gt; | Percentage_JPY_L_MTM &lt;dbl&gt; |\n",
       "|---|---|---|---|---|---|\n",
       "| 245 | 2018-12-20 | 5043321 | 566919756 |  0.866424 |  0.5444304 |\n",
       "| 246 | 2018-12-21 | 4868770 | 541266063 | -2.624592 | -4.0053068 |\n",
       "| 247 | 2018-12-24 | 4748185 | 527304922 | -5.036304 | -6.4813451 |\n",
       "| 248 | 2018-12-26 | 5071274 | 559878738 |  1.425470 | -0.7043091 |\n",
       "| 249 | 2018-12-27 | 5089474 | 565980019 |  1.789474 |  0.3777661 |\n",
       "| 250 | 2018-12-28 | 5091589 | 564428082 |  1.831774 |  0.1025267 |\n",
       "\n"
      ],
      "text/plain": [
       "    Date       Low_MTM JPY_Low_MTM Percentage_L_MTM Percentage_JPY_L_MTM\n",
       "245 2018-12-20 5043321 566919756    0.866424         0.5444304          \n",
       "246 2018-12-21 4868770 541266063   -2.624592        -4.0053068          \n",
       "247 2018-12-24 4748185 527304922   -5.036304        -6.4813451          \n",
       "248 2018-12-26 5071274 559878738    1.425470        -0.7043091          \n",
       "249 2018-12-27 5089474 565980019    1.789474         0.3777661          \n",
       "250 2018-12-28 5091589 564428082    1.831774         0.1025267          "
      ]
     },
     "metadata": {},
     "output_type": "display_data"
    },
    {
     "name": "stdout",
     "output_type": "stream",
     "text": [
      "[1] \"#################\"\n",
      "[1] \"2024-07-08 22:06:00 EDT\"\n",
      "[1] \"Rebalancing Data for 5 Days High strategy \"\n",
      "[1] \"#################\"\n"
     ]
    },
    {
     "data": {
      "text/html": [
       "<table class=\"dataframe\">\n",
       "<caption>A data.frame: 6 × 5</caption>\n",
       "<thead>\n",
       "\t<tr><th></th><th scope=col>Date</th><th scope=col>High_MTM</th><th scope=col>JPY_High_MTM</th><th scope=col>Percentage_H_MTM</th><th scope=col>Percentage_JPY_H_MTM</th></tr>\n",
       "\t<tr><th></th><th scope=col>&lt;chr&gt;</th><th scope=col>&lt;dbl&gt;</th><th scope=col>&lt;dbl&gt;</th><th scope=col>&lt;dbl&gt;</th><th scope=col>&lt;dbl&gt;</th></tr>\n",
       "</thead>\n",
       "<tbody>\n",
       "\t<tr><th scope=row>1</th><td>2018-01-02</td><td>5000000</td><td>563849985</td><td>0.000000</td><td>0.000000</td></tr>\n",
       "\t<tr><th scope=row>2</th><td>2018-01-03</td><td>5061154</td><td>568084205</td><td>1.223084</td><td>0.750948</td></tr>\n",
       "\t<tr><th scope=row>3</th><td>2018-01-04</td><td>5103664</td><td>574708246</td><td>2.073270</td><td>1.925736</td></tr>\n",
       "\t<tr><th scope=row>4</th><td>2018-01-05</td><td>5164091</td><td>582421611</td><td>3.281811</td><td>3.293718</td></tr>\n",
       "\t<tr><th scope=row>5</th><td>2018-01-08</td><td>5187051</td><td>586935550</td><td>3.741018</td><td>4.094274</td></tr>\n",
       "\t<tr><th scope=row>6</th><td>2018-01-09</td><td>5192835</td><td>587522554</td><td>3.856703</td><td>4.198381</td></tr>\n",
       "</tbody>\n",
       "</table>\n"
      ],
      "text/latex": [
       "A data.frame: 6 × 5\n",
       "\\begin{tabular}{r|lllll}\n",
       "  & Date & High\\_MTM & JPY\\_High\\_MTM & Percentage\\_H\\_MTM & Percentage\\_JPY\\_H\\_MTM\\\\\n",
       "  & <chr> & <dbl> & <dbl> & <dbl> & <dbl>\\\\\n",
       "\\hline\n",
       "\t1 & 2018-01-02 & 5000000 & 563849985 & 0.000000 & 0.000000\\\\\n",
       "\t2 & 2018-01-03 & 5061154 & 568084205 & 1.223084 & 0.750948\\\\\n",
       "\t3 & 2018-01-04 & 5103664 & 574708246 & 2.073270 & 1.925736\\\\\n",
       "\t4 & 2018-01-05 & 5164091 & 582421611 & 3.281811 & 3.293718\\\\\n",
       "\t5 & 2018-01-08 & 5187051 & 586935550 & 3.741018 & 4.094274\\\\\n",
       "\t6 & 2018-01-09 & 5192835 & 587522554 & 3.856703 & 4.198381\\\\\n",
       "\\end{tabular}\n"
      ],
      "text/markdown": [
       "\n",
       "A data.frame: 6 × 5\n",
       "\n",
       "| <!--/--> | Date &lt;chr&gt; | High_MTM &lt;dbl&gt; | JPY_High_MTM &lt;dbl&gt; | Percentage_H_MTM &lt;dbl&gt; | Percentage_JPY_H_MTM &lt;dbl&gt; |\n",
       "|---|---|---|---|---|---|\n",
       "| 1 | 2018-01-02 | 5000000 | 563849985 | 0.000000 | 0.000000 |\n",
       "| 2 | 2018-01-03 | 5061154 | 568084205 | 1.223084 | 0.750948 |\n",
       "| 3 | 2018-01-04 | 5103664 | 574708246 | 2.073270 | 1.925736 |\n",
       "| 4 | 2018-01-05 | 5164091 | 582421611 | 3.281811 | 3.293718 |\n",
       "| 5 | 2018-01-08 | 5187051 | 586935550 | 3.741018 | 4.094274 |\n",
       "| 6 | 2018-01-09 | 5192835 | 587522554 | 3.856703 | 4.198381 |\n",
       "\n"
      ],
      "text/plain": [
       "  Date       High_MTM JPY_High_MTM Percentage_H_MTM Percentage_JPY_H_MTM\n",
       "1 2018-01-02 5000000  563849985    0.000000         0.000000            \n",
       "2 2018-01-03 5061154  568084205    1.223084         0.750948            \n",
       "3 2018-01-04 5103664  574708246    2.073270         1.925736            \n",
       "4 2018-01-05 5164091  582421611    3.281811         3.293718            \n",
       "5 2018-01-08 5187051  586935550    3.741018         4.094274            \n",
       "6 2018-01-09 5192835  587522554    3.856703         4.198381            "
      ]
     },
     "metadata": {},
     "output_type": "display_data"
    },
    {
     "data": {
      "text/html": [
       "<table class=\"dataframe\">\n",
       "<caption>A data.frame: 6 × 5</caption>\n",
       "<thead>\n",
       "\t<tr><th></th><th scope=col>Date</th><th scope=col>High_MTM</th><th scope=col>JPY_High_MTM</th><th scope=col>Percentage_H_MTM</th><th scope=col>Percentage_JPY_H_MTM</th></tr>\n",
       "\t<tr><th></th><th scope=col>&lt;chr&gt;</th><th scope=col>&lt;dbl&gt;</th><th scope=col>&lt;dbl&gt;</th><th scope=col>&lt;dbl&gt;</th><th scope=col>&lt;dbl&gt;</th></tr>\n",
       "</thead>\n",
       "<tbody>\n",
       "\t<tr><th scope=row>245</th><td>2018-12-20</td><td>4974216</td><td>559151671</td><td>-0.5156746</td><td>-0.8332561</td></tr>\n",
       "\t<tr><th scope=row>246</th><td>2018-12-21</td><td>4776165</td><td>530971081</td><td>-4.4766908</td><td>-5.8311439</td></tr>\n",
       "\t<tr><th scope=row>247</th><td>2018-12-24</td><td>4606501</td><td>511570338</td><td>-7.8699852</td><td>-9.2719072</td></tr>\n",
       "\t<tr><th scope=row>248</th><td>2018-12-26</td><td>4920819</td><td>543268221</td><td>-1.5836270</td><td>-3.6502199</td></tr>\n",
       "\t<tr><th scope=row>249</th><td>2018-12-27</td><td>4915519</td><td>546635209</td><td>-1.6896203</td><td>-3.0530773</td></tr>\n",
       "\t<tr><th scope=row>250</th><td>2018-12-28</td><td>4948248</td><td>548538095</td><td>-1.0350313</td><td>-2.7155964</td></tr>\n",
       "</tbody>\n",
       "</table>\n"
      ],
      "text/latex": [
       "A data.frame: 6 × 5\n",
       "\\begin{tabular}{r|lllll}\n",
       "  & Date & High\\_MTM & JPY\\_High\\_MTM & Percentage\\_H\\_MTM & Percentage\\_JPY\\_H\\_MTM\\\\\n",
       "  & <chr> & <dbl> & <dbl> & <dbl> & <dbl>\\\\\n",
       "\\hline\n",
       "\t245 & 2018-12-20 & 4974216 & 559151671 & -0.5156746 & -0.8332561\\\\\n",
       "\t246 & 2018-12-21 & 4776165 & 530971081 & -4.4766908 & -5.8311439\\\\\n",
       "\t247 & 2018-12-24 & 4606501 & 511570338 & -7.8699852 & -9.2719072\\\\\n",
       "\t248 & 2018-12-26 & 4920819 & 543268221 & -1.5836270 & -3.6502199\\\\\n",
       "\t249 & 2018-12-27 & 4915519 & 546635209 & -1.6896203 & -3.0530773\\\\\n",
       "\t250 & 2018-12-28 & 4948248 & 548538095 & -1.0350313 & -2.7155964\\\\\n",
       "\\end{tabular}\n"
      ],
      "text/markdown": [
       "\n",
       "A data.frame: 6 × 5\n",
       "\n",
       "| <!--/--> | Date &lt;chr&gt; | High_MTM &lt;dbl&gt; | JPY_High_MTM &lt;dbl&gt; | Percentage_H_MTM &lt;dbl&gt; | Percentage_JPY_H_MTM &lt;dbl&gt; |\n",
       "|---|---|---|---|---|---|\n",
       "| 245 | 2018-12-20 | 4974216 | 559151671 | -0.5156746 | -0.8332561 |\n",
       "| 246 | 2018-12-21 | 4776165 | 530971081 | -4.4766908 | -5.8311439 |\n",
       "| 247 | 2018-12-24 | 4606501 | 511570338 | -7.8699852 | -9.2719072 |\n",
       "| 248 | 2018-12-26 | 4920819 | 543268221 | -1.5836270 | -3.6502199 |\n",
       "| 249 | 2018-12-27 | 4915519 | 546635209 | -1.6896203 | -3.0530773 |\n",
       "| 250 | 2018-12-28 | 4948248 | 548538095 | -1.0350313 | -2.7155964 |\n",
       "\n"
      ],
      "text/plain": [
       "    Date       High_MTM JPY_High_MTM Percentage_H_MTM Percentage_JPY_H_MTM\n",
       "245 2018-12-20 4974216  559151671    -0.5156746       -0.8332561          \n",
       "246 2018-12-21 4776165  530971081    -4.4766908       -5.8311439          \n",
       "247 2018-12-24 4606501  511570338    -7.8699852       -9.2719072          \n",
       "248 2018-12-26 4920819  543268221    -1.5836270       -3.6502199          \n",
       "249 2018-12-27 4915519  546635209    -1.6896203       -3.0530773          \n",
       "250 2018-12-28 4948248  548538095    -1.0350313       -2.7155964          "
      ]
     },
     "metadata": {},
     "output_type": "display_data"
    },
    {
     "name": "stdout",
     "output_type": "stream",
     "text": [
      "[1] \"#################\"\n",
      "[1] \"2024-07-08 22:06:00 EDT\"\n",
      "[1] \"Calculating High Tech Index for 5 Days strategy\"\n",
      "[1] \"#################\"\n"
     ]
    },
    {
     "data": {
      "text/html": [
       "<table class=\"dataframe\">\n",
       "<caption>A data.frame: 10 × 7</caption>\n",
       "<thead>\n",
       "\t<tr><th></th><th scope=col>Date</th><th scope=col>Percentage_L_MTM</th><th scope=col>Percentage_H_MTM</th><th scope=col>Percentage_JPY_L_MTM</th><th scope=col>Percentage_JPY_H_MTM</th><th scope=col>Percentage_High_Index</th><th scope=col>ClosePriceMean</th></tr>\n",
       "\t<tr><th></th><th scope=col>&lt;chr&gt;</th><th scope=col>&lt;dbl&gt;</th><th scope=col>&lt;dbl&gt;</th><th scope=col>&lt;dbl&gt;</th><th scope=col>&lt;dbl&gt;</th><th scope=col>&lt;dbl&gt;</th><th scope=col>&lt;dbl&gt;</th></tr>\n",
       "</thead>\n",
       "<tbody>\n",
       "\t<tr><th scope=row>1</th><td>2018-01-02</td><td>0.000000</td><td>0.000000</td><td>0.000000</td><td>0.000000</td><td>0.000000</td><td>95.20607</td></tr>\n",
       "\t<tr><th scope=row>2</th><td>2018-01-03</td><td>1.223084</td><td>1.223084</td><td>0.750948</td><td>0.750948</td><td>1.585074</td><td>96.71516</td></tr>\n",
       "\t<tr><th scope=row>3</th><td>2018-01-04</td><td>2.073270</td><td>2.073270</td><td>1.925736</td><td>1.925736</td><td>2.296060</td><td>97.39206</td></tr>\n",
       "\t<tr><th scope=row>4</th><td>2018-01-05</td><td>3.281811</td><td>3.281811</td><td>3.293718</td><td>3.293718</td><td>3.627637</td><td>98.65980</td></tr>\n",
       "\t<tr><th scope=row>5</th><td>2018-01-08</td><td>3.741018</td><td>3.741018</td><td>4.094274</td><td>4.094274</td><td>4.234572</td><td>99.23764</td></tr>\n",
       "\t<tr><th scope=row>6</th><td>2018-01-09</td><td>3.856703</td><td>3.856703</td><td>4.198381</td><td>4.198381</td><td>3.882214</td><td>98.90217</td></tr>\n",
       "\t<tr><th scope=row>7</th><td>2018-01-10</td><td>3.912097</td><td>3.744721</td><td>3.898276</td><td>3.730921</td><td>4.042667</td><td>99.05494</td></tr>\n",
       "\t<tr><th scope=row>8</th><td>2018-01-11</td><td>4.042303</td><td>4.353942</td><td>2.818930</td><td>3.126905</td><td>4.417605</td><td>99.41190</td></tr>\n",
       "\t<tr><th scope=row>9</th><td>2018-01-12</td><td>3.848816</td><td>5.459509</td><td>2.489584</td><td>4.079195</td><td>4.391004</td><td>99.38657</td></tr>\n",
       "\t<tr><th scope=row>10</th><td>2018-01-16</td><td>3.815030</td><td>5.461132</td><td>1.799860</td><td>3.414009</td><td>4.324600</td><td>99.32335</td></tr>\n",
       "</tbody>\n",
       "</table>\n"
      ],
      "text/latex": [
       "A data.frame: 10 × 7\n",
       "\\begin{tabular}{r|lllllll}\n",
       "  & Date & Percentage\\_L\\_MTM & Percentage\\_H\\_MTM & Percentage\\_JPY\\_L\\_MTM & Percentage\\_JPY\\_H\\_MTM & Percentage\\_High\\_Index & ClosePriceMean\\\\\n",
       "  & <chr> & <dbl> & <dbl> & <dbl> & <dbl> & <dbl> & <dbl>\\\\\n",
       "\\hline\n",
       "\t1 & 2018-01-02 & 0.000000 & 0.000000 & 0.000000 & 0.000000 & 0.000000 & 95.20607\\\\\n",
       "\t2 & 2018-01-03 & 1.223084 & 1.223084 & 0.750948 & 0.750948 & 1.585074 & 96.71516\\\\\n",
       "\t3 & 2018-01-04 & 2.073270 & 2.073270 & 1.925736 & 1.925736 & 2.296060 & 97.39206\\\\\n",
       "\t4 & 2018-01-05 & 3.281811 & 3.281811 & 3.293718 & 3.293718 & 3.627637 & 98.65980\\\\\n",
       "\t5 & 2018-01-08 & 3.741018 & 3.741018 & 4.094274 & 4.094274 & 4.234572 & 99.23764\\\\\n",
       "\t6 & 2018-01-09 & 3.856703 & 3.856703 & 4.198381 & 4.198381 & 3.882214 & 98.90217\\\\\n",
       "\t7 & 2018-01-10 & 3.912097 & 3.744721 & 3.898276 & 3.730921 & 4.042667 & 99.05494\\\\\n",
       "\t8 & 2018-01-11 & 4.042303 & 4.353942 & 2.818930 & 3.126905 & 4.417605 & 99.41190\\\\\n",
       "\t9 & 2018-01-12 & 3.848816 & 5.459509 & 2.489584 & 4.079195 & 4.391004 & 99.38657\\\\\n",
       "\t10 & 2018-01-16 & 3.815030 & 5.461132 & 1.799860 & 3.414009 & 4.324600 & 99.32335\\\\\n",
       "\\end{tabular}\n"
      ],
      "text/markdown": [
       "\n",
       "A data.frame: 10 × 7\n",
       "\n",
       "| <!--/--> | Date &lt;chr&gt; | Percentage_L_MTM &lt;dbl&gt; | Percentage_H_MTM &lt;dbl&gt; | Percentage_JPY_L_MTM &lt;dbl&gt; | Percentage_JPY_H_MTM &lt;dbl&gt; | Percentage_High_Index &lt;dbl&gt; | ClosePriceMean &lt;dbl&gt; |\n",
       "|---|---|---|---|---|---|---|---|\n",
       "| 1 | 2018-01-02 | 0.000000 | 0.000000 | 0.000000 | 0.000000 | 0.000000 | 95.20607 |\n",
       "| 2 | 2018-01-03 | 1.223084 | 1.223084 | 0.750948 | 0.750948 | 1.585074 | 96.71516 |\n",
       "| 3 | 2018-01-04 | 2.073270 | 2.073270 | 1.925736 | 1.925736 | 2.296060 | 97.39206 |\n",
       "| 4 | 2018-01-05 | 3.281811 | 3.281811 | 3.293718 | 3.293718 | 3.627637 | 98.65980 |\n",
       "| 5 | 2018-01-08 | 3.741018 | 3.741018 | 4.094274 | 4.094274 | 4.234572 | 99.23764 |\n",
       "| 6 | 2018-01-09 | 3.856703 | 3.856703 | 4.198381 | 4.198381 | 3.882214 | 98.90217 |\n",
       "| 7 | 2018-01-10 | 3.912097 | 3.744721 | 3.898276 | 3.730921 | 4.042667 | 99.05494 |\n",
       "| 8 | 2018-01-11 | 4.042303 | 4.353942 | 2.818930 | 3.126905 | 4.417605 | 99.41190 |\n",
       "| 9 | 2018-01-12 | 3.848816 | 5.459509 | 2.489584 | 4.079195 | 4.391004 | 99.38657 |\n",
       "| 10 | 2018-01-16 | 3.815030 | 5.461132 | 1.799860 | 3.414009 | 4.324600 | 99.32335 |\n",
       "\n"
      ],
      "text/plain": [
       "   Date       Percentage_L_MTM Percentage_H_MTM Percentage_JPY_L_MTM\n",
       "1  2018-01-02 0.000000         0.000000         0.000000            \n",
       "2  2018-01-03 1.223084         1.223084         0.750948            \n",
       "3  2018-01-04 2.073270         2.073270         1.925736            \n",
       "4  2018-01-05 3.281811         3.281811         3.293718            \n",
       "5  2018-01-08 3.741018         3.741018         4.094274            \n",
       "6  2018-01-09 3.856703         3.856703         4.198381            \n",
       "7  2018-01-10 3.912097         3.744721         3.898276            \n",
       "8  2018-01-11 4.042303         4.353942         2.818930            \n",
       "9  2018-01-12 3.848816         5.459509         2.489584            \n",
       "10 2018-01-16 3.815030         5.461132         1.799860            \n",
       "   Percentage_JPY_H_MTM Percentage_High_Index ClosePriceMean\n",
       "1  0.000000             0.000000              95.20607      \n",
       "2  0.750948             1.585074              96.71516      \n",
       "3  1.925736             2.296060              97.39206      \n",
       "4  3.293718             3.627637              98.65980      \n",
       "5  4.094274             4.234572              99.23764      \n",
       "6  4.198381             3.882214              98.90217      \n",
       "7  3.730921             4.042667              99.05494      \n",
       "8  3.126905             4.417605              99.41190      \n",
       "9  4.079195             4.391004              99.38657      \n",
       "10 3.414009             4.324600              99.32335      "
      ]
     },
     "metadata": {},
     "output_type": "display_data"
    }
   ],
   "source": [
    "###  Low and High Rebalancing Portfolio for 5 days holding period with USD and JPY Ccy and calculating High-Tech index\n",
    "print(\"#################\")\n",
    "print(Sys.time())\n",
    "print(\"Calculating Rebalancing Portfolio\")  \n",
    "print(\"#################\")\n",
    "### Rebalancing for every 5 days\n",
    "LMTM =  Get_PortfolioDetails(\"Low\",5)\n",
    "HMTM =  Get_PortfolioDetails(\"High\",5)\n",
    "\n",
    "print(\"#################\")\n",
    "print(Sys.time())\n",
    "print(\"Rebalancing Portfolio for 5 Days LOW strategy \")  \n",
    "print(\"#################\")\n",
    "\n",
    "Low_MTM  = LMTM %>% group_by(Date)   %>% summarize(Low_MTM=sum(NetWorthPerShare))    %>% select (Date,Low_MTM)  \n",
    "JPY_Low_MTM  =   Low_MTM %>% mutate(JPY_Low_MTM = (Low_MTM * (USDJPY_FX$Close)))  %>% select (Date,JPY_Low_MTM)\n",
    "Percentage_Low_MTM =  Low_MTM %>% mutate(Percentage_L_MTM = ((Low_MTM - 5000000)/5000000) *100 ) %>% select (Date,Percentage_L_MTM)                                           \n",
    "Percentage_JPY_Low_MTM =  JPY_Low_MTM %>% mutate(Percentage_JPY_L_MTM = ((JPY_Low_MTM - JPY_Low_MTM[1])/JPY_Low_MTM[1]) *100 ) %>% select (Date,Percentage_JPY_L_MTM)                                           \n",
    "                                             \n",
    "MTM_LOW_List = list(Low_MTM,JPY_Low_MTM,Percentage_Low_MTM,Percentage_JPY_Low_MTM)\n",
    "Merged_MTM_LOW_List = Reduce(function(x, y) merge(x, y, by = \"Date\", all = TRUE), MTM_LOW_List)\n",
    "head(Merged_MTM_LOW_List)\n",
    "tail(Merged_MTM_LOW_List)                             \n",
    "print(\"#################\") \n",
    "print(Sys.time())\n",
    "print(\"Rebalancing Data for 5 Days High strategy \")  \n",
    "print(\"#################\")\n",
    "High_MTM  = HMTM %>% group_by(Date)   %>% summarize(High_MTM=sum(NetWorthPerShare))    %>% select (Date,High_MTM)   \n",
    "JPY_High_MTM  =   High_MTM %>% mutate(JPY_High_MTM = (High_MTM * (USDJPY_FX$Close)))  %>% select (Date,JPY_High_MTM)\n",
    "Percentage_High_MTM =  High_MTM %>% mutate(Percentage_H_MTM = ((High_MTM - 5000000)/5000000) *100 ) %>% select (Date,Percentage_H_MTM)                                           \n",
    "Percentage_JPY_High_MTM =  JPY_High_MTM %>% mutate(Percentage_JPY_H_MTM = ((JPY_High_MTM - JPY_High_MTM[1])/JPY_High_MTM[1]) *100 ) %>% select (Date,Percentage_JPY_H_MTM)                                           \n",
    "\n",
    "MTM_High_List = list(High_MTM,JPY_High_MTM,Percentage_High_MTM,Percentage_JPY_High_MTM)\n",
    "Merged_MTM_HIGH_List = Reduce(function(x, y) merge(x, y, by = \"Date\", all = TRUE), MTM_High_List)\n",
    "head(Merged_MTM_HIGH_List) \n",
    "tail(Merged_MTM_HIGH_List)\n",
    "print(\"#################\") \n",
    "print(Sys.time())\n",
    "print(\"Calculating High Tech Index for 5 Days strategy\")  \n",
    "print(\"#################\")\n",
    "ClosePriceMean = Merged_ALL_Stock_Datas %>% mutate( ClosePriceMean= rowMeans(Merged_ALL_Stock_Datas[paste0(StockUniverse, \"_Close\")]) ) %>% select (Date,ClosePriceMean)\n",
    "\n",
    "###High Tech Index                                             \n",
    "\n",
    "Percentage_High_Index =  ClosePriceMean %>% mutate(Percentage_High_Index = ((ClosePriceMean - ClosePriceMean[1])/ClosePriceMean[1]) *100) %>% select (Date, Percentage_High_Index)                                            \n",
    "#MTMList = list(Low_MTM,High_MTM,JPY_Low_MTM,JPY_High_MTM,Percentage_Low_MTM,Percentage_High_MTM,Percentage_JPY_Low_MTM,Percentage_JPY_High_MTM,Percentage_High_Index)\n",
    "MTM_LOW_HIGH_List = list(Percentage_Low_MTM,Percentage_High_MTM,Percentage_JPY_Low_MTM,Percentage_JPY_High_MTM,Percentage_High_Index,ClosePriceMean)\n",
    "Merged_L_H_MTM = Reduce(function(x, y) merge(x, y, by = \"Date\", all = TRUE), MTM_LOW_HIGH_List)\n",
    "head(Merged_L_H_MTM , 10)\n",
    "                        \n"
   ]
  },
  {
   "cell_type": "markdown",
   "id": "2074da10-8c9a-4291-8465-a092ca2d4383",
   "metadata": {},
   "source": [
    "##   Plotting graph for Low and High Rebalancing Portfolio for 5 days holding period with USD and JPY Ccy , High-Tech index"
   ]
  },
  {
   "cell_type": "code",
   "execution_count": 15,
   "id": "2e6cd07f-07bd-4d2c-a4f0-46383f28431f",
   "metadata": {},
   "outputs": [
    {
     "name": "stdout",
     "output_type": "stream",
     "text": [
      "[1] \"############\"\n",
      "[1] \"2024-07-08 22:06:10 EDT\"\n",
      "[1] \"Plotting the graph for MTMLOW LIST, MTM HIGH LIST, AVG CLOSE LIST, PERCENTAGE HIGH INDEX \"\n",
      "[1] \"############\"\n",
      "[1] \"############\"\n",
      "[1] \"2024-07-08 22:06:11 EDT\"\n",
      "[1] \"Plotting the graph for MTMLOW LIST, JPY MTMLOW LIST\"\n",
      "[1] \"############\"\n"
     ]
    },
    {
     "data": {
      "image/png": "[encoded data removed]",
      "text/plain": [
       "plot without title"
      ]
     },
     "metadata": {
      "image/png": {
       "height": 300,
       "width": 900
      }
     },
     "output_type": "display_data"
    },
    {
     "name": "stdout",
     "output_type": "stream",
     "text": [
      "[1] \"############\"\n",
      "[1] \"2024-07-08 22:06:12 EDT\"\n",
      "[1] \"Plotting the graph for MTM HIGH LIST,JPY MTM HIGH LIST  \"\n",
      "[1] \"############\"\n"
     ]
    },
    {
     "data": {
      "image/png": "[encoded data removed]",
      "text/plain": [
       "plot without title"
      ]
     },
     "metadata": {
      "image/png": {
       "height": 300,
       "width": 900
      }
     },
     "output_type": "display_data"
    },
    {
     "name": "stdout",
     "output_type": "stream",
     "text": [
      "[1] \"############ Logging Completed ################\"\n"
     ]
    },
    {
     "data": {
      "image/png": "[encoded data removed]",
      "text/plain": [
       "plot without title"
      ]
     },
     "metadata": {
      "image/png": {
       "height": 300,
       "width": 900
      }
     },
     "output_type": "display_data"
    }
   ],
   "source": [
    "###plotting the graph\n",
    "\n",
    "print(\"############\")\n",
    "print(Sys.time())\n",
    "print(\"Plotting the graph for MTMLOW LIST, MTM HIGH LIST, AVG CLOSE LIST, PERCENTAGE HIGH INDEX \")\n",
    "print(\"############\")\n",
    "\n",
    "# Plot the MTM series and high-tech index\n",
    "                        \n",
    "    Plo1 = Merged_L_H_MTM %>% select(Date,Percentage_L_MTM,Percentage_H_MTM,Percentage_High_Index,ClosePriceMean)\n",
    "    Plo1 = reshape2::melt(Plo1, id.vars=\"Date\", na.rm = T)\n",
    "    ggplot(data.frame(Plo1),aes(x=as.Date(Date), y=value, group=variable, colour = variable)) + geom_line(size = 1) + \n",
    "    labs(title = \"Percentage LOW-HIGH MTM With High Index \", x = \"2018 Date Range\", y = \"MTM-HIGH INDEX\") +\n",
    "    scale_x_date(date_breaks = \"1 month\", date_labels = \"%b\") +   \n",
    "    scale_color_manual(values = c(\"blue\", \"orange\", \"darkgreen\",\"red\"))\n",
    "\n",
    "  \n",
    "print(\"############\")\n",
    "print(Sys.time())\n",
    "print(\"Plotting the graph for MTMLOW LIST, JPY MTMLOW LIST\")\n",
    "print(\"############\")\n",
    "# Plot the MTM series and high-tech index\n",
    "    Plo2 = Merged_L_H_MTM %>% select(Date,Percentage_L_MTM,Percentage_JPY_L_MTM)\n",
    "    Plo2 = reshape2::melt(Plo2, id.vars=\"Date\", na.rm = T)\n",
    "    ggplot(data.frame(Plo2),aes(x=as.Date(Date), y=value, group=variable, colour = variable)) + geom_line(size = 1) + \n",
    "    labs(title = \"Percentage LOW MTM Over Time for USD-JPF \", x = \"2018 Date Range\", y = \"MTM LOW-USD-JPY\") +\n",
    "    scale_x_date(date_breaks = \"1 month\", date_labels = \"%b\") +   \n",
    "    scale_color_manual(values = c(\"darkred\", \"darkgreen\"))\n",
    "                                            \n",
    "print(\"############\")\n",
    "print(Sys.time())\n",
    "print(\"Plotting the graph for MTM HIGH LIST,JPY MTM HIGH LIST  \")\n",
    "print(\"############\")\n",
    "# Plot the MTM series and high-tech index\n",
    "    Plo3 = Merged_L_H_MTM %>% select(Date,Percentage_H_MTM,Percentage_JPY_H_MTM)\n",
    "    Plo3 = reshape2::melt(Plo3, id.vars=\"Date\", na.rm = T)\n",
    "    ggplot(data.frame(Plo3),aes(x=as.Date(Date), y=value, group=variable, colour = variable)) + geom_line(size = 1) + \n",
    "    labs(title = \"PercentageHiGH MTM Over Time for USD-JPF \", x = \"2018 Date Range\", y = \"MTM LOW-USD-JPY\") +\n",
    "    scale_x_date(date_breaks = \"1 month\", date_labels = \"%b\") +   \n",
    "    scale_color_manual(values = c(\"red\", \"orange\"))\n",
    "                                                    \n",
    "                        \n",
    "print(\"############ Logging Completed ################\")                        \n",
    "\n",
    "\n"
   ]
  },
  {
   "cell_type": "markdown",
   "id": "b9f9fd4f-20c2-4cb1-a5fe-579875a63d83",
   "metadata": {},
   "source": [
    "##   Function to Find optimal Day for Rebalancing for 1:30 days range following Low and high MTM strategy and plotting the graph"
   ]
  },
  {
   "cell_type": "code",
   "execution_count": 16,
   "id": "2a100d86-4283-4f96-ac4e-8bbb2ae8bbf3",
   "metadata": {},
   "outputs": [
    {
     "name": "stdout",
     "output_type": "stream",
     "text": [
      "[1] \"############ Logging Started for finding Optimal Day for Rebalancing for Interval Range 1:30 ################\"\n",
      "[1] \"############\"\n",
      "[1] \"2024-07-08 22:06:20 EDT\"\n",
      "[1] \"Finding Optimal Day for rebalancing with day range from 1 to 30 \"\n",
      "[1] \"############\"\n",
      "[1] \"############\"\n",
      "[1] \"2024-07-08 22:06:20 EDT\"\n",
      "[1] \"Optimal Day to get High Profit by following LOW Strategy is \"\n",
      "[1] \"############\"\n"
     ]
    },
    {
     "data": {
      "text/html": [
       "<table class=\"dataframe\">\n",
       "<caption>A data.frame: 1 × 2</caption>\n",
       "<thead>\n",
       "\t<tr><th scope=col>optimalDay</th><th scope=col>YearEnd_Net_Worth_LOW_MTM</th></tr>\n",
       "\t<tr><th scope=col>&lt;int&gt;</th><th scope=col>&lt;dbl&gt;</th></tr>\n",
       "</thead>\n",
       "<tbody>\n",
       "\t<tr><td>10</td><td>5957323</td></tr>\n",
       "</tbody>\n",
       "</table>\n"
      ],
      "text/latex": [
       "A data.frame: 1 × 2\n",
       "\\begin{tabular}{ll}\n",
       " optimalDay & YearEnd\\_Net\\_Worth\\_LOW\\_MTM\\\\\n",
       " <int> & <dbl>\\\\\n",
       "\\hline\n",
       "\t 10 & 5957323\\\\\n",
       "\\end{tabular}\n"
      ],
      "text/markdown": [
       "\n",
       "A data.frame: 1 × 2\n",
       "\n",
       "| optimalDay &lt;int&gt; | YearEnd_Net_Worth_LOW_MTM &lt;dbl&gt; |\n",
       "|---|---|\n",
       "| 10 | 5957323 |\n",
       "\n"
      ],
      "text/plain": [
       "  optimalDay YearEnd_Net_Worth_LOW_MTM\n",
       "1 10         5957323                  "
      ]
     },
     "metadata": {},
     "output_type": "display_data"
    },
    {
     "name": "stdout",
     "output_type": "stream",
     "text": [
      "[1] \"############\"\n",
      "[1] \"2024-07-08 22:07:54 EDT\"\n",
      "[1] \"Optimal Day to get High Profit by following High Strategy is \"\n",
      "[1] \"############\"\n"
     ]
    },
    {
     "data": {
      "text/html": [
       "<table class=\"dataframe\">\n",
       "<caption>A data.frame: 1 × 2</caption>\n",
       "<thead>\n",
       "\t<tr><th scope=col>optimalDay</th><th scope=col>YearEnd_Net_Worth_HIGH_MTM</th></tr>\n",
       "\t<tr><th scope=col>&lt;int&gt;</th><th scope=col>&lt;dbl&gt;</th></tr>\n",
       "</thead>\n",
       "<tbody>\n",
       "\t<tr><td>7</td><td>5629000</td></tr>\n",
       "</tbody>\n",
       "</table>\n"
      ],
      "text/latex": [
       "A data.frame: 1 × 2\n",
       "\\begin{tabular}{ll}\n",
       " optimalDay & YearEnd\\_Net\\_Worth\\_HIGH\\_MTM\\\\\n",
       " <int> & <dbl>\\\\\n",
       "\\hline\n",
       "\t 7 & 5629000\\\\\n",
       "\\end{tabular}\n"
      ],
      "text/markdown": [
       "\n",
       "A data.frame: 1 × 2\n",
       "\n",
       "| optimalDay &lt;int&gt; | YearEnd_Net_Worth_HIGH_MTM &lt;dbl&gt; |\n",
       "|---|---|\n",
       "| 7 | 5629000 |\n",
       "\n"
      ],
      "text/plain": [
       "  optimalDay YearEnd_Net_Worth_HIGH_MTM\n",
       "1 7          5629000                   "
      ]
     },
     "metadata": {},
     "output_type": "display_data"
    },
    {
     "data": {
      "text/html": [
       "<table class=\"dataframe\">\n",
       "<caption>A data.frame: 6 × 3</caption>\n",
       "<thead>\n",
       "\t<tr><th></th><th scope=col>optimalDay</th><th scope=col>YearEnd_Net_Worth_LOW_MTM</th><th scope=col>YearEnd_Net_Worth_HIGH_MTM</th></tr>\n",
       "\t<tr><th></th><th scope=col>&lt;int&gt;</th><th scope=col>&lt;dbl&gt;</th><th scope=col>&lt;dbl&gt;</th></tr>\n",
       "</thead>\n",
       "<tbody>\n",
       "\t<tr><th scope=row>1</th><td>1</td><td>5024562</td><td>5024562</td></tr>\n",
       "\t<tr><th scope=row>2</th><td>2</td><td>5501357</td><td>4635978</td></tr>\n",
       "\t<tr><th scope=row>3</th><td>3</td><td>5197288</td><td>4872173</td></tr>\n",
       "\t<tr><th scope=row>4</th><td>4</td><td>4690846</td><td>5373973</td></tr>\n",
       "\t<tr><th scope=row>5</th><td>5</td><td>5091589</td><td>4948248</td></tr>\n",
       "\t<tr><th scope=row>6</th><td>6</td><td>5354042</td><td>4711546</td></tr>\n",
       "</tbody>\n",
       "</table>\n"
      ],
      "text/latex": [
       "A data.frame: 6 × 3\n",
       "\\begin{tabular}{r|lll}\n",
       "  & optimalDay & YearEnd\\_Net\\_Worth\\_LOW\\_MTM & YearEnd\\_Net\\_Worth\\_HIGH\\_MTM\\\\\n",
       "  & <int> & <dbl> & <dbl>\\\\\n",
       "\\hline\n",
       "\t1 & 1 & 5024562 & 5024562\\\\\n",
       "\t2 & 2 & 5501357 & 4635978\\\\\n",
       "\t3 & 3 & 5197288 & 4872173\\\\\n",
       "\t4 & 4 & 4690846 & 5373973\\\\\n",
       "\t5 & 5 & 5091589 & 4948248\\\\\n",
       "\t6 & 6 & 5354042 & 4711546\\\\\n",
       "\\end{tabular}\n"
      ],
      "text/markdown": [
       "\n",
       "A data.frame: 6 × 3\n",
       "\n",
       "| <!--/--> | optimalDay &lt;int&gt; | YearEnd_Net_Worth_LOW_MTM &lt;dbl&gt; | YearEnd_Net_Worth_HIGH_MTM &lt;dbl&gt; |\n",
       "|---|---|---|---|\n",
       "| 1 | 1 | 5024562 | 5024562 |\n",
       "| 2 | 2 | 5501357 | 4635978 |\n",
       "| 3 | 3 | 5197288 | 4872173 |\n",
       "| 4 | 4 | 4690846 | 5373973 |\n",
       "| 5 | 5 | 5091589 | 4948248 |\n",
       "| 6 | 6 | 5354042 | 4711546 |\n",
       "\n"
      ],
      "text/plain": [
       "  optimalDay YearEnd_Net_Worth_LOW_MTM YearEnd_Net_Worth_HIGH_MTM\n",
       "1 1          5024562                   5024562                   \n",
       "2 2          5501357                   4635978                   \n",
       "3 3          5197288                   4872173                   \n",
       "4 4          4690846                   5373973                   \n",
       "5 5          5091589                   4948248                   \n",
       "6 6          5354042                   4711546                   "
      ]
     },
     "metadata": {},
     "output_type": "display_data"
    },
    {
     "data": {
      "image/png": "[encoded data removed]",
      "text/plain": [
       "plot without title"
      ]
     },
     "metadata": {
      "image/png": {
       "height": 300,
       "width": 600
      }
     },
     "output_type": "display_data"
    }
   ],
   "source": [
    "\n",
    "print(\"############ Logging Started for finding Optimal Day for Rebalancing for Interval Range 1:30 ################\")                        \n",
    "                        \n",
    "print(\"############\")\n",
    "print(Sys.time())\n",
    "print(\"Finding Optimal Day for rebalancing with day range from 1 to 30 \")\n",
    "print(\"############\")\n",
    "                        \n",
    "###To Find optimal Rebalance Day\n",
    "Optimal_All_DataA = data.frame()                                             \n",
    "\n",
    "find_OptimlDay_For_Rebalancing = function(Type){\n",
    "    for (i in 1:30){\n",
    "    LMTM =  Get_PortfolioDetails(Type,i)\n",
    "    YearEnd_Net_Worth  = LMTM %>% group_by(Date) %>% summarize(YearEnd_Net_Worth=sum(NetWorthPerShare)) %>% filter(Date == as.Date(\"2018-12-28\")) %>% select (YearEnd_Net_Worth)  \n",
    "    Optimal_DF = data.frame(optimalDay=i , YearEnd_Net_Worth) \n",
    "    Optimal_All_DataA = rbind(Optimal_All_DataA,Optimal_DF)\n",
    "    } \n",
    "    return(Optimal_All_DataA)                                             \n",
    "}\n",
    "print(\"############\")\n",
    "print(Sys.time())\n",
    "print(\"Optimal Day to get High Profit by following LOW Strategy is \")\n",
    "print(\"############\")\n",
    "                        \n",
    "Optimal_Day_Low_MTM = find_OptimlDay_For_Rebalancing(\"Low\")\n",
    "Optimal_Day_Low_MTM <- Optimal_Day_Low_MTM %>% rename(YearEnd_Net_Worth_LOW_MTM = YearEnd_Net_Worth)\n",
    "Max_Optimal_Day_Low_MTM = Optimal_Day_Low_MTM %>% arrange(desc(YearEnd_Net_Worth_LOW_MTM) , optimalDay) %>% select(optimalDay,YearEnd_Net_Worth_LOW_MTM) %>% slice(1)\n",
    "Max_Optimal_Day_Low_MTM                        \n",
    "print(\"############\")\n",
    "print(Sys.time())\n",
    "print(\"Optimal Day to get High Profit by following High Strategy is \")\n",
    "print(\"############\")                        \n",
    "Optimal_Day_High_MTM = find_OptimlDay_For_Rebalancing(\"High\") \n",
    "Optimal_Day_High_MTM <- Optimal_Day_High_MTM %>% rename(YearEnd_Net_Worth_HIGH_MTM = YearEnd_Net_Worth)\n",
    "Max_Optimal_Day_High_MTM = Optimal_Day_High_MTM %>% arrange(desc(YearEnd_Net_Worth_HIGH_MTM) , optimalDay) %>% select(optimalDay,YearEnd_Net_Worth_HIGH_MTM) %>% slice(1)\n",
    "Max_Optimal_Day_High_MTM\n",
    "\n",
    "Merged_OptimalDay_List = merge(Optimal_Day_Low_MTM, Optimal_Day_High_MTM, by = \"optimalDay\", all = TRUE)\n",
    "head(Merged_OptimalDay_List)  \n",
    "\n",
    "# Plot the Max MTM for all 30 days\n",
    "options(repr.plot.width = 10, repr.plot.height = 5)\n",
    "                        \n",
    "\n",
    "\n",
    "Plo4 = reshape2::melt(Merged_OptimalDay_List, id.vars=\"optimalDay\", na.rm = T)\n",
    "ggplot(data.frame(Plo4),aes(x=optimalDay, y=value, group=variable, colour = variable)) + geom_line(size = 1) + \n",
    "labs(title = \"Max MTM for all 30 days \", x = \"Days Range\", y = \"Year End Net Worth\") +\n",
    "scale_color_manual(values = c(\"darkred\", \"darkgreen\")) +     theme_minimal() \n"
   ]
  },
  {
   "cell_type": "markdown",
   "id": "f404b167-d3e9-40b3-ac69-b75cc8650751",
   "metadata": {},
   "source": [
    "##   Conclusion : \n",
    "######        We get Maximum MTM on 12/28/2018 if we rebalance the portfolio every 10 days with LOW Adj Close Strategy.\n",
    "######        We get Maximum MTM on 12/28/2018 if we rebalance the portfolio every 7 days with HIGH Adj Close Strategy.\n",
    "#####         So Comparing LOW and HIGH MTM, the best solution to get Maximum MTM on 12/28/2018 is by rebalancing the portfolio every 10 days with LOW Adj Close Strategy."
   ]
  },
  {
   "cell_type": "code",
   "execution_count": null,
   "id": "ae365e65-1a52-411f-a152-4a3c4697d844",
   "metadata": {},
   "outputs": [],
   "source": []
  }
 ],
 "metadata": {
  "kernelspec": {
   "display_name": "R",
   "language": "R",
   "name": "ir"
  },
  "language_info": {
   "codemirror_mode": "r",
   "file_extension": ".r",
   "mimetype": "text/x-r-source",
   "name": "R",
   "pygments_lexer": "r",
   "version": "4.3.3"
  }
 },
 "nbformat": 4,
 "nbformat_minor": 5
}
